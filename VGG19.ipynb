{
 "cells": [
  {
   "cell_type": "code",
   "execution_count": 0,
   "metadata": {
    "colab": {
     "base_uri": "https://localhost:8080/",
     "height": 34
    },
    "colab_type": "code",
    "id": "rHZRu_Lm2Two",
    "outputId": "dde3a606-bf3b-4c67-8792-5082055b1e72"
   },
   "outputs": [
    {
     "name": "stdout",
     "output_type": "stream",
     "text": [
      "Drive already mounted at /content/gdrive; to attempt to forcibly remount, call drive.mount(\"/content/gdrive\", force_remount=True).\n"
     ]
    }
   ],
   "source": [
    "from google.colab import drive\n",
    "drive.mount('/content/gdrive')\n",
    "import sys\n",
    "import os\n",
    "os.chdir(\"/content/gdrive/My Drive/proje\")"
   ]
  },
  {
   "cell_type": "code",
   "execution_count": 0,
   "metadata": {
    "colab": {
     "base_uri": "https://localhost:8080/",
     "height": 34
    },
    "colab_type": "code",
    "id": "FvHdNz_r2ssi",
    "outputId": "a42ecf99-fac2-442f-a98d-a8e1adf23d85"
   },
   "outputs": [
    {
     "name": "stderr",
     "output_type": "stream",
     "text": [
      "Using TensorFlow backend.\n"
     ]
    }
   ],
   "source": [
    "import numpy as np\n",
    "import pandas as pd\n",
    "from random import sample\n",
    "import pickle, cv2\n",
    "#from scipy.misc import imresize\n",
    "from sklearn.model_selection import train_test_split\n",
    "import warnings\n",
    "warnings.simplefilter(action='ignore', category=FutureWarning)\n",
    "import keras\n",
    "from keras import applications, optimizers\n",
    "from keras.models import Sequential, Model, load_model\n",
    "from keras.layers import Dropout, Flatten, Dense, Conv2D, MaxPool2D, GlobalAveragePooling2D\n",
    "from keras.optimizers import SGD, Adam\n",
    "from keras.utils import np_utils\n",
    "import h5py\n",
    "from keras.utils import plot_model\n",
    "\n"
   ]
  },
  {
   "cell_type": "code",
   "execution_count": 0,
   "metadata": {
    "colab": {},
    "colab_type": "code",
    "id": "LsRLR9wh355E"
   },
   "outputs": [],
   "source": [
    "seed = 1337\n",
    "np.random.seed(seed)\n",
    "\n",
    "epochs = 5\n",
    "batch_size = 25\n",
    "input_shape = (224, 224, 3)\n",
    " \n",
    "data = np.load('/content/gdrive/My Drive/proje/images_labels_224.npz')\n",
    "x = data['x']\n",
    "y = data['y']\n",
    "n_classes = len(np.unique(y))    \n"
   ]
  },
  {
   "cell_type": "code",
   "execution_count": 0,
   "metadata": {
    "colab": {},
    "colab_type": "code",
    "id": "fEBE7Ys437E_"
   },
   "outputs": [],
   "source": [
    "def train_validation_split(x, y):\n",
    "    # split data into training and test sets\n",
    "    X_training, X_test, y_training, y_test = train_test_split(x, y, stratify=y, test_size= 0.1, random_state=1337)\n",
    "\n",
    "    # split training into train and validation sets\n",
    "    X_train, X_val, y_train, y_val = train_test_split(X_training, y_training, stratify=y_training, random_state=42)\n",
    "\n",
    "    return X_train, X_val, X_test, y_train, y_val, y_test\n",
    "\n"
   ]
  },
  {
   "cell_type": "code",
   "execution_count": 0,
   "metadata": {
    "colab": {
     "base_uri": "https://localhost:8080/",
     "height": 119
    },
    "colab_type": "code",
    "id": "0vQpoBwK9Iea",
    "outputId": "623e69f0-d83d-4ba6-95a4-d0d90c231f08"
   },
   "outputs": [
    {
     "name": "stdout",
     "output_type": "stream",
     "text": [
      "Train data shape:  (3564, 224, 224, 3)\n",
      "Train labels shape:  (3564,)\n",
      "Validation data shape:  (1188, 224, 224, 3)\n",
      "Validation labels shape:  (1188,)\n",
      "Test data shape:  (528, 224, 224, 3)\n",
      "Test labels shape:  (528,)\n"
     ]
    }
   ],
   "source": [
    "X_train, X_val, X_test, y_train, y_val, y_test = train_validation_split(x, y)\n",
    "print('Train data shape: ', X_train.shape) # 90% - 4752 (3564 + 1188)\n",
    "print('Train labels shape: ', y_train.shape)\n",
    "print('Validation data shape: ', X_val.shape)\n",
    "print('Validation labels shape: ', y_val.shape)\n",
    "print('Test data shape: ', X_test.shape) # 10% - 528\n",
    "print('Test labels shape: ', y_test.shape)"
   ]
  },
  {
   "cell_type": "code",
   "execution_count": 0,
   "metadata": {
    "colab": {},
    "colab_type": "code",
    "id": "833p42cH4BzT"
   },
   "outputs": [],
   "source": [
    "def one_hot(y_train, y_val, y_test, n_classes):\n",
    "    y_train = np_utils.to_categorical(y_train, n_classes)\n",
    "    y_val = np_utils.to_categorical(y_val, n_classes)\n",
    "    y_test = np_utils.to_categorical(y_test, n_classes)\n",
    "    return y_train, y_val, y_test\n"
   ]
  },
  {
   "cell_type": "code",
   "execution_count": 0,
   "metadata": {
    "colab": {
     "base_uri": "https://localhost:8080/",
     "height": 374
    },
    "colab_type": "code",
    "id": "Jv4-gSqLsEPr",
    "outputId": "bf4a5cdc-9bcc-4c37-a0b8-1bd71ec26e6c"
   },
   "outputs": [
    {
     "name": "stdout",
     "output_type": "stream",
     "text": [
      "[[0. 0. 1. ... 0. 0. 0.]\n",
      " [0. 0. 0. ... 0. 0. 0.]\n",
      " [0. 0. 0. ... 0. 0. 0.]\n",
      " ...\n",
      " [0. 0. 0. ... 0. 0. 0.]\n",
      " [0. 0. 0. ... 1. 0. 0.]\n",
      " [0. 0. 0. ... 1. 0. 0.]]\n",
      "[[0. 0. 0. ... 0. 0. 0.]\n",
      " [0. 0. 0. ... 0. 0. 1.]\n",
      " [0. 0. 0. ... 0. 1. 0.]\n",
      " ...\n",
      " [0. 0. 0. ... 1. 0. 0.]\n",
      " [0. 0. 0. ... 0. 0. 0.]\n",
      " [0. 0. 0. ... 0. 0. 0.]]\n",
      "[[0. 0. 0. ... 0. 0. 0.]\n",
      " [0. 1. 0. ... 0. 0. 0.]\n",
      " [0. 0. 0. ... 0. 0. 0.]\n",
      " ...\n",
      " [0. 0. 0. ... 0. 0. 1.]\n",
      " [0. 0. 0. ... 0. 0. 0.]\n",
      " [0. 0. 0. ... 0. 0. 1.]]\n"
     ]
    }
   ],
   "source": [
    "y_train, y_val, y_test = one_hot(y_train, y_val, y_test, n_classes)\n",
    "\n",
    "print(y_train)\n",
    "print(y_val)\n",
    "print(y_test)"
   ]
  },
  {
   "cell_type": "code",
   "execution_count": 0,
   "metadata": {
    "colab": {
     "base_uri": "https://localhost:8080/",
     "height": 1000
    },
    "colab_type": "code",
    "id": "KxFYfO20sGcj",
    "outputId": "a9b2ea46-e559-4f34-f8b6-8dd2286f95ee"
   },
   "outputs": [
    {
     "name": "stderr",
     "output_type": "stream",
     "text": [
      "WARNING: Logging before flag parsing goes to stderr.\n",
      "W0708 12:17:06.290172 140605358884736 deprecation_wrapper.py:119] From /usr/local/lib/python3.6/dist-packages/keras/backend/tensorflow_backend.py:74: The name tf.get_default_graph is deprecated. Please use tf.compat.v1.get_default_graph instead.\n",
      "\n",
      "W0708 12:17:06.334561 140605358884736 deprecation_wrapper.py:119] From /usr/local/lib/python3.6/dist-packages/keras/backend/tensorflow_backend.py:517: The name tf.placeholder is deprecated. Please use tf.compat.v1.placeholder instead.\n",
      "\n",
      "W0708 12:17:06.353464 140605358884736 deprecation_wrapper.py:119] From /usr/local/lib/python3.6/dist-packages/keras/backend/tensorflow_backend.py:4138: The name tf.random_uniform is deprecated. Please use tf.random.uniform instead.\n",
      "\n",
      "W0708 12:17:06.398228 140605358884736 deprecation_wrapper.py:119] From /usr/local/lib/python3.6/dist-packages/keras/backend/tensorflow_backend.py:3976: The name tf.nn.max_pool is deprecated. Please use tf.nn.max_pool2d instead.\n",
      "\n",
      "W0708 12:17:07.118757 140605358884736 deprecation_wrapper.py:119] From /usr/local/lib/python3.6/dist-packages/keras/backend/tensorflow_backend.py:174: The name tf.get_default_session is deprecated. Please use tf.compat.v1.get_default_session instead.\n",
      "\n",
      "W0708 12:17:07.119857 140605358884736 deprecation_wrapper.py:119] From /usr/local/lib/python3.6/dist-packages/keras/backend/tensorflow_backend.py:181: The name tf.ConfigProto is deprecated. Please use tf.compat.v1.ConfigProto instead.\n",
      "\n",
      "W0708 12:17:10.769097 140605358884736 deprecation.py:506] From /usr/local/lib/python3.6/dist-packages/keras/backend/tensorflow_backend.py:3445: calling dropout (from tensorflow.python.ops.nn_ops) with keep_prob is deprecated and will be removed in a future version.\n",
      "Instructions for updating:\n",
      "Please use `rate` instead of `keep_prob`. Rate should be set to `rate = 1 - keep_prob`.\n"
     ]
    },
    {
     "name": "stdout",
     "output_type": "stream",
     "text": [
      "_________________________________________________________________\n",
      "Layer (type)                 Output Shape              Param #   \n",
      "=================================================================\n",
      "input_1 (InputLayer)         (None, 224, 224, 3)       0         \n",
      "_________________________________________________________________\n",
      "block1_conv1 (Conv2D)        (None, 224, 224, 64)      1792      \n",
      "_________________________________________________________________\n",
      "block1_conv2 (Conv2D)        (None, 224, 224, 64)      36928     \n",
      "_________________________________________________________________\n",
      "block1_pool (MaxPooling2D)   (None, 112, 112, 64)      0         \n",
      "_________________________________________________________________\n",
      "block2_conv1 (Conv2D)        (None, 112, 112, 128)     73856     \n",
      "_________________________________________________________________\n",
      "block2_conv2 (Conv2D)        (None, 112, 112, 128)     147584    \n",
      "_________________________________________________________________\n",
      "block2_pool (MaxPooling2D)   (None, 56, 56, 128)       0         \n",
      "_________________________________________________________________\n",
      "block3_conv1 (Conv2D)        (None, 56, 56, 256)       295168    \n",
      "_________________________________________________________________\n",
      "block3_conv2 (Conv2D)        (None, 56, 56, 256)       590080    \n",
      "_________________________________________________________________\n",
      "block3_conv3 (Conv2D)        (None, 56, 56, 256)       590080    \n",
      "_________________________________________________________________\n",
      "block3_conv4 (Conv2D)        (None, 56, 56, 256)       590080    \n",
      "_________________________________________________________________\n",
      "block3_pool (MaxPooling2D)   (None, 28, 28, 256)       0         \n",
      "_________________________________________________________________\n",
      "block4_conv1 (Conv2D)        (None, 28, 28, 512)       1180160   \n",
      "_________________________________________________________________\n",
      "block4_conv2 (Conv2D)        (None, 28, 28, 512)       2359808   \n",
      "_________________________________________________________________\n",
      "block4_conv3 (Conv2D)        (None, 28, 28, 512)       2359808   \n",
      "_________________________________________________________________\n",
      "block4_conv4 (Conv2D)        (None, 28, 28, 512)       2359808   \n",
      "_________________________________________________________________\n",
      "block4_pool (MaxPooling2D)   (None, 14, 14, 512)       0         \n",
      "_________________________________________________________________\n",
      "block5_conv1 (Conv2D)        (None, 14, 14, 512)       2359808   \n",
      "_________________________________________________________________\n",
      "block5_conv2 (Conv2D)        (None, 14, 14, 512)       2359808   \n",
      "_________________________________________________________________\n",
      "block5_conv3 (Conv2D)        (None, 14, 14, 512)       2359808   \n",
      "_________________________________________________________________\n",
      "block5_conv4 (Conv2D)        (None, 14, 14, 512)       2359808   \n",
      "_________________________________________________________________\n",
      "block5_pool (MaxPooling2D)   (None, 7, 7, 512)         0         \n",
      "_________________________________________________________________\n",
      "global_average_pooling2d_1 ( (None, 512)               0         \n",
      "_________________________________________________________________\n",
      "dropout_1 (Dropout)          (None, 512)               0         \n",
      "_________________________________________________________________\n",
      "dense_1 (Dense)              (None, 10)                5130      \n",
      "=================================================================\n",
      "Total params: 20,029,514\n",
      "Trainable params: 20,029,514\n",
      "Non-trainable params: 0\n",
      "_________________________________________________________________\n"
     ]
    }
   ],
   "source": [
    "base_model = keras.applications.vgg19.VGG19(include_top=False, weights='imagenet', input_tensor=None, input_shape=input_shape,  classes=10)\n",
    "x = base_model.output\n",
    "x = GlobalAveragePooling2D()(x)\n",
    "x = Dropout(0.25)(x)\n",
    "predictions = Dense(n_classes, activation= 'softmax')(x)\n",
    "model = Model(inputs = base_model.input, outputs = predictions)\n",
    "\n",
    "model.summary()"
   ]
  },
  {
   "cell_type": "code",
   "execution_count": 0,
   "metadata": {
    "colab": {},
    "colab_type": "code",
    "id": "hqhLHNMV9Zf6"
   },
   "outputs": [],
   "source": [
    "# save the best model only\n",
    "filepath ='/content/gdrive/My Drive/proje/model_VGG19.hdf5'\n",
    "checkpoint = keras.callbacks.ModelCheckpoint(filepath, \n",
    "                                             monitor='val_acc', \n",
    "                                             verbose=1, \n",
    "                                             save_best_only=True, \n",
    "                                             mode='max')\n",
    "callbacks_list = [checkpoint]\n"
   ]
  },
  {
   "cell_type": "code",
   "execution_count": 0,
   "metadata": {
    "colab": {},
    "colab_type": "code",
    "id": "6R_DRnqosLp1"
   },
   "outputs": [],
   "source": [
    "adam = Adam(lr=0.001)\n",
    "model.compile(optimizer= adam, loss='categorical_crossentropy', metrics=['accuracy'])\n",
    "#model.compile(loss=keras.losses.categorical_crossentropy,\n",
    "              #optimizer=SGD(lr=0.1, momentum=0, decay=0, nesterov=False),\n",
    "              #metrics=['accuracy'])"
   ]
  },
  {
   "cell_type": "code",
   "execution_count": 0,
   "metadata": {
    "colab": {
     "base_uri": "https://localhost:8080/",
     "height": 714
    },
    "colab_type": "code",
    "id": "E7W3CJfO4HX2",
    "outputId": "5bf2c3ce-e40a-4450-e8ec-62845cfc8581"
   },
   "outputs": [
    {
     "name": "stdout",
     "output_type": "stream",
     "text": [
      "Train on 3564 samples, validate on 1188 samples\n",
      "Epoch 1/10\n",
      "3564/3564 [==============================] - 67s 19ms/step - loss: 2.3151 - acc: 0.1080 - val_loss: 2.3027 - val_acc: 0.1002\n",
      "\n",
      "Epoch 00001: val_acc improved from -inf to 0.10017, saving model to /content/gdrive/My Drive/proje/model_VGG19.hdf5\n",
      "Epoch 2/10\n",
      "3564/3564 [==============================] - 64s 18ms/step - loss: 2.3028 - acc: 0.0926 - val_loss: 2.3026 - val_acc: 0.1002\n",
      "\n",
      "Epoch 00002: val_acc did not improve from 0.10017\n",
      "Epoch 3/10\n",
      "3564/3564 [==============================] - 63s 18ms/step - loss: 2.3027 - acc: 0.0999 - val_loss: 2.3026 - val_acc: 0.1002\n",
      "\n",
      "Epoch 00003: val_acc did not improve from 0.10017\n",
      "Epoch 4/10\n",
      "3564/3564 [==============================] - 63s 18ms/step - loss: 2.3028 - acc: 0.0929 - val_loss: 2.3026 - val_acc: 0.1002\n",
      "\n",
      "Epoch 00004: val_acc did not improve from 0.10017\n",
      "Epoch 5/10\n",
      "3564/3564 [==============================] - 63s 18ms/step - loss: 2.3028 - acc: 0.0937 - val_loss: 2.3026 - val_acc: 0.1002\n",
      "\n",
      "Epoch 00005: val_acc did not improve from 0.10017\n",
      "Epoch 6/10\n",
      "3564/3564 [==============================] - 63s 18ms/step - loss: 2.3027 - acc: 0.0993 - val_loss: 2.3026 - val_acc: 0.1002\n",
      "\n",
      "Epoch 00006: val_acc did not improve from 0.10017\n",
      "Epoch 7/10\n",
      "3564/3564 [==============================] - 63s 18ms/step - loss: 2.3027 - acc: 0.0951 - val_loss: 2.3026 - val_acc: 0.1002\n",
      "\n",
      "Epoch 00007: val_acc did not improve from 0.10017\n",
      "Epoch 8/10\n",
      "3564/3564 [==============================] - 63s 18ms/step - loss: 2.3027 - acc: 0.0943 - val_loss: 2.3026 - val_acc: 0.1002\n",
      "\n",
      "Epoch 00008: val_acc did not improve from 0.10017\n",
      "Epoch 9/10\n",
      "3564/3564 [==============================] - 63s 18ms/step - loss: 2.3027 - acc: 0.0932 - val_loss: 2.3026 - val_acc: 0.1002\n",
      "\n",
      "Epoch 00009: val_acc did not improve from 0.10017\n",
      "Epoch 10/10\n",
      "3564/3564 [==============================] - 63s 18ms/step - loss: 2.3027 - acc: 0.0909 - val_loss: 2.3026 - val_acc: 0.0993\n",
      "\n",
      "Epoch 00010: val_acc did not improve from 0.10017\n"
     ]
    }
   ],
   "source": [
    "batch_size = 65\n",
    "epochs = 10\n",
    "history = model.fit(X_train, y_train,\n",
    "                    batch_size=batch_size,\n",
    "                    epochs=epochs,\n",
    "                    callbacks=callbacks_list,\n",
    "                    verbose=1,\n",
    "                    validation_data=(X_val, y_val))\n",
    "    \n",
    "    "
   ]
  },
  {
   "cell_type": "code",
   "execution_count": 0,
   "metadata": {
    "colab": {},
    "colab_type": "code",
    "id": "KXyxq3qAAfMn"
   },
   "outputs": [],
   "source": [
    "history.history[\"acc\"]\n"
   ]
  },
  {
   "cell_type": "code",
   "execution_count": 0,
   "metadata": {
    "colab": {
     "base_uri": "https://localhost:8080/",
     "height": 51
    },
    "colab_type": "code",
    "id": "tHoUZ3zq4TSb",
    "outputId": "f2742cd1-5700-4f5a-bf90-fa5ad1583ea9"
   },
   "outputs": [
    {
     "name": "stdout",
     "output_type": "stream",
     "text": [
      "Test loss: 2.302692767345544\n",
      "Test accuracy: 0.10037878787878787\n"
     ]
    }
   ],
   "source": [
    "model.load_weights(filepath)\n",
    "score = model.evaluate(X_test, y_test, verbose=0)\n",
    "print('Test loss:', score[0])\n",
    "print('Test accuracy:', score[1])"
   ]
  },
  {
   "cell_type": "code",
   "execution_count": 0,
   "metadata": {
    "colab": {},
    "colab_type": "code",
    "id": "QGUhqSTk7SMy"
   },
   "outputs": [],
   "source": [
    "plot_model(model, to_file='modelvgg19.png')"
   ]
  },
  {
   "cell_type": "code",
   "execution_count": 0,
   "metadata": {
    "colab": {},
    "colab_type": "code",
    "id": "PA5OSlza9fb3"
   },
   "outputs": [],
   "source": [
    "import matplotlib.pyplot as plt\n",
    "%matplotlib inline\n",
    "plt.rcParams['figure.figsize'] = (10.0, 8.0) # set default size of plots\n",
    "plt.rcParams['image.interpolation'] = 'nearest'\n",
    "plt.rcParams['image.cmap'] = 'gray'"
   ]
  },
  {
   "cell_type": "code",
   "execution_count": 0,
   "metadata": {
    "colab": {},
    "colab_type": "code",
    "id": "oPFzfvZI8GcW"
   },
   "outputs": [],
   "source": [
    "plt.subplot(2, 1, 1)\n",
    "plt.title('Training loss')\n",
    "plt.plot(history.history[\"loss\"], 'o')\n",
    "plt.xlabel('Iteration')\n",
    "\n",
    "plt.subplot(2, 1, 2)\n",
    "plt.title('Accuracy')\n",
    "plt.plot(history.history[\"acc\"], '-o', label='train')\n",
    "plt.plot(history.history[\"val_acc\"], '-o', label='val')\n",
    "plt.plot([0.5] * len(history.history[\"val_acc\"]), 'k--')\n",
    "plt.xlabel('Epoch')\n",
    "plt.legend(loc='lower right')\n",
    "plt.gcf().set_size_inches(15, 12)\n",
    "plt.show()"
   ]
  },
  {
   "cell_type": "code",
   "execution_count": 0,
   "metadata": {
    "colab": {},
    "colab_type": "code",
    "id": "GbsInhZN9eAC"
   },
   "outputs": [],
   "source": []
  },
  {
   "cell_type": "code",
   "execution_count": 0,
   "metadata": {
    "colab": {},
    "colab_type": "code",
    "id": "Mrn_SrJ34Tz5"
   },
   "outputs": [],
   "source": []
  },
  {
   "cell_type": "code",
   "execution_count": 0,
   "metadata": {
    "colab": {},
    "colab_type": "code",
    "id": "xd6qSErd4Yuq"
   },
   "outputs": [],
   "source": []
  }
 ],
 "metadata": {
  "accelerator": "GPU",
  "colab": {
   "collapsed_sections": [],
   "name": "VGG19",
   "provenance": [],
   "version": "0.3.2"
  },
  "kernelspec": {
   "display_name": "Python 3",
   "language": "python",
   "name": "python3"
  },
  "language_info": {
   "codemirror_mode": {
    "name": "ipython",
    "version": 3
   },
   "file_extension": ".py",
   "mimetype": "text/x-python",
   "name": "python",
   "nbconvert_exporter": "python",
   "pygments_lexer": "ipython3",
   "version": "3.6.8"
  }
 },
 "nbformat": 4,
 "nbformat_minor": 1
}
