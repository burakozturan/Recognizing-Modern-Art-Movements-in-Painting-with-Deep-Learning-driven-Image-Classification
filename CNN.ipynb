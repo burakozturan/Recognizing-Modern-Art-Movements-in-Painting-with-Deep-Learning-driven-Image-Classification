{
  "nbformat": 4,
  "nbformat_minor": 0,
  "metadata": {
    "colab": {
      "name": "CNN",
      "version": "0.3.2",
      "provenance": [],
      "collapsed_sections": []
    },
    "kernelspec": {
      "name": "python3",
      "display_name": "Python 3"
    },
    "accelerator": "GPU"
  },
  "cells": [
    {
      "cell_type": "code",
      "metadata": {
        "id": "rHZRu_Lm2Two",
        "colab_type": "code",
        "outputId": "470ef784-4f00-4f15-9427-f6873d197fe6",
        "colab": {
          "base_uri": "https://localhost:8080/",
          "height": 122
        }
      },
      "source": [
        "from google.colab import drive\n",
        "drive.mount('/content/gdrive')\n",
        "import sys\n",
        "import os\n",
        "os.chdir(\"/content/gdrive/My Drive/dlp19/proje\")"
      ],
      "execution_count": 0,
      "outputs": [
        {
          "output_type": "stream",
          "text": [
            "Go to this URL in a browser: https://accounts.google.com/o/oauth2/auth?client_id=947318989803-6bn6qk8qdgf4n4g3pfee6491hc0brc4i.apps.googleusercontent.com&redirect_uri=urn%3Aietf%3Awg%3Aoauth%3A2.0%3Aoob&scope=email%20https%3A%2F%2Fwww.googleapis.com%2Fauth%2Fdocs.test%20https%3A%2F%2Fwww.googleapis.com%2Fauth%2Fdrive%20https%3A%2F%2Fwww.googleapis.com%2Fauth%2Fdrive.photos.readonly%20https%3A%2F%2Fwww.googleapis.com%2Fauth%2Fpeopleapi.readonly&response_type=code\n",
            "\n",
            "Enter your authorization code:\n",
            "··········\n",
            "Mounted at /content/gdrive\n"
          ],
          "name": "stdout"
        }
      ]
    },
    {
      "cell_type": "code",
      "metadata": {
        "id": "FvHdNz_r2ssi",
        "colab_type": "code",
        "outputId": "fa099991-8f0c-431b-c811-75fdef0c6c5a",
        "colab": {
          "base_uri": "https://localhost:8080/",
          "height": 34
        }
      },
      "source": [
        "import warnings\n",
        "warnings.simplefilter(action='ignore', category=FutureWarning)\n",
        "import numpy as np\n",
        "import pandas as pd\n",
        "from random import sample\n",
        "import pickle, cv2\n",
        "#from scipy.misc import imresize\n",
        "from sklearn.model_selection import train_test_split\n",
        "import warnings\n",
        "warnings.simplefilter(action='ignore', category=FutureWarning)\n",
        "import keras\n",
        "from keras import applications, optimizers\n",
        "from keras.models import Sequential, Model, load_model\n",
        "from keras.layers import *\n",
        "from keras.layers import Dropout, Flatten, Dense, Conv2D, MaxPool2D, GlobalAveragePooling2D\n",
        "from keras.optimizers import SGD, Adam\n",
        "from keras.utils import np_utils\n",
        "import h5py\n",
        "from keras.utils import plot_model\n",
        "plot_model(model, to_file='model.png')\n",
        "\n",
        "\n",
        "\n",
        "\n",
        "\n"
      ],
      "execution_count": 0,
      "outputs": [
        {
          "output_type": "stream",
          "text": [
            "Using TensorFlow backend.\n"
          ],
          "name": "stderr"
        }
      ]
    },
    {
      "cell_type": "code",
      "metadata": {
        "id": "LsRLR9wh355E",
        "colab_type": "code",
        "colab": {}
      },
      "source": [
        "seed = 1337\n",
        "np.random.seed(seed)\n",
        "\n",
        "epochs = 5\n",
        "batch_size = 25\n",
        "input_shape = (224, 224, 3)\n",
        " \n",
        "data = np.load('/content/gdrive/My Drive/dlp19/proje/images_labels_224.npz')\n",
        "x = data['x']\n",
        "y = data['y']\n",
        "n_classes = len(np.unique(y))    \n"
      ],
      "execution_count": 0,
      "outputs": []
    },
    {
      "cell_type": "code",
      "metadata": {
        "id": "fEBE7Ys437E_",
        "colab_type": "code",
        "colab": {}
      },
      "source": [
        "def train_validation_split(x, y):\n",
        "    # split data into training and test sets\n",
        "    X_training, X_test, y_training, y_test = train_test_split(x, y, stratify=y, test_size= 0.1, random_state=1337)\n",
        "\n",
        "    # split training into train and validation sets\n",
        "    X_train, X_val, y_train, y_val = train_test_split(X_training, y_training, stratify=y_training, random_state=42)\n",
        "\n",
        "    return X_train, X_val, X_test, y_train, y_val, y_test\n",
        "\n"
      ],
      "execution_count": 0,
      "outputs": []
    },
    {
      "cell_type": "code",
      "metadata": {
        "id": "0vQpoBwK9Iea",
        "colab_type": "code",
        "outputId": "1efe313d-53ca-4f21-ea5b-be7cc3942c29",
        "colab": {
          "base_uri": "https://localhost:8080/",
          "height": 119
        }
      },
      "source": [
        "X_train, X_val, X_test, y_train, y_val, y_test = train_validation_split(x, y)\n",
        "print('Train data shape: ', X_train.shape) # 90% - 4752 (3564 + 1188)\n",
        "print('Train labels shape: ', y_train.shape)\n",
        "print('Validation data shape: ', X_val.shape)\n",
        "print('Validation labels shape: ', y_val.shape)\n",
        "print('Test data shape: ', X_test.shape) # 10% - 528\n",
        "print('Test labels shape: ', y_test.shape)"
      ],
      "execution_count": 0,
      "outputs": [
        {
          "output_type": "stream",
          "text": [
            "Train data shape:  (3564, 224, 224, 3)\n",
            "Train labels shape:  (3564,)\n",
            "Validation data shape:  (1188, 224, 224, 3)\n",
            "Validation labels shape:  (1188,)\n",
            "Test data shape:  (528, 224, 224, 3)\n",
            "Test labels shape:  (528,)\n"
          ],
          "name": "stdout"
        }
      ]
    },
    {
      "cell_type": "code",
      "metadata": {
        "id": "833p42cH4BzT",
        "colab_type": "code",
        "colab": {}
      },
      "source": [
        "def one_hot(y_train, y_val, y_test, n_classes):\n",
        "    y_train = np_utils.to_categorical(y_train, n_classes)\n",
        "    y_val = np_utils.to_categorical(y_val, n_classes)\n",
        "    y_test = np_utils.to_categorical(y_test, n_classes)\n",
        "    return y_train, y_val, y_test\n"
      ],
      "execution_count": 0,
      "outputs": []
    },
    {
      "cell_type": "code",
      "metadata": {
        "id": "Jv4-gSqLsEPr",
        "colab_type": "code",
        "outputId": "2a9145d3-0d8e-49e4-9ad9-6c0982fcfd1d",
        "colab": {
          "base_uri": "https://localhost:8080/",
          "height": 374
        }
      },
      "source": [
        "y_train, y_val, y_test = one_hot(y_train, y_val, y_test, n_classes)\n",
        "\n",
        "print(y_train)\n",
        "print(y_val)\n",
        "print(y_test)"
      ],
      "execution_count": 0,
      "outputs": [
        {
          "output_type": "stream",
          "text": [
            "[[0. 0. 1. ... 0. 0. 0.]\n",
            " [0. 0. 0. ... 0. 0. 0.]\n",
            " [0. 0. 0. ... 0. 0. 0.]\n",
            " ...\n",
            " [0. 0. 0. ... 0. 0. 0.]\n",
            " [0. 0. 0. ... 1. 0. 0.]\n",
            " [0. 0. 0. ... 1. 0. 0.]]\n",
            "[[0. 0. 0. ... 0. 0. 0.]\n",
            " [0. 0. 0. ... 0. 0. 1.]\n",
            " [0. 0. 0. ... 0. 1. 0.]\n",
            " ...\n",
            " [0. 0. 0. ... 1. 0. 0.]\n",
            " [0. 0. 0. ... 0. 0. 0.]\n",
            " [0. 0. 0. ... 0. 0. 0.]]\n",
            "[[0. 0. 0. ... 0. 0. 0.]\n",
            " [0. 1. 0. ... 0. 0. 0.]\n",
            " [0. 0. 0. ... 0. 0. 0.]\n",
            " ...\n",
            " [0. 0. 0. ... 0. 0. 1.]\n",
            " [0. 0. 0. ... 0. 0. 0.]\n",
            " [0. 0. 0. ... 0. 0. 1.]]\n"
          ],
          "name": "stdout"
        }
      ]
    },
    {
      "cell_type": "code",
      "metadata": {
        "id": "KxFYfO20sGcj",
        "colab_type": "code",
        "outputId": "5d82051d-88e1-4988-b39f-53d2dabfe5da",
        "colab": {
          "base_uri": "https://localhost:8080/",
          "height": 748
        }
      },
      "source": [
        "\n",
        "\n",
        "### START CODE HERE ###\n",
        "model = Sequential()\n",
        "model.add(Conv2D(32, kernel_size=(3, 3),padding='same',activation='relu',input_shape=input_shape))\n",
        "model.add(Conv2D(64, (3, 3), padding='same',activation='relu'))\n",
        "model.add(BatchNormalization())\n",
        "model.add(MaxPooling2D(pool_size=(2, 2)))\n",
        "model.add(Dropout(0.25))\n",
        "model.add(Conv2D(128, (3, 3),padding='same', activation='relu'))\n",
        "model.add(BatchNormalization())\n",
        "model.add(MaxPooling2D(pool_size=(2, 2)))\n",
        "model.add(Dropout(0.25))\n",
        "model.add(Conv2D(256, (3, 3),padding='same', activation='relu'))\n",
        "model.add(BatchNormalization())\n",
        "model.add(MaxPooling2D(pool_size=(2, 2)))\n",
        "model.add(Dropout(0.25))\n",
        "model.add(Flatten())\n",
        "model.add(Dense(128, activation='relu'))\n",
        "model.add(BatchNormalization())\n",
        "model.add(Dropout(0.5))\n",
        "model.add(Dense(n_classes, activation='softmax'))\n",
        "### END CODE HERE ###\n",
        "\n",
        "model.summary()"
      ],
      "execution_count": 0,
      "outputs": [
        {
          "output_type": "stream",
          "text": [
            "_________________________________________________________________\n",
            "Layer (type)                 Output Shape              Param #   \n",
            "=================================================================\n",
            "conv2d_5 (Conv2D)            (None, 224, 224, 32)      896       \n",
            "_________________________________________________________________\n",
            "conv2d_6 (Conv2D)            (None, 224, 224, 64)      18496     \n",
            "_________________________________________________________________\n",
            "batch_normalization_5 (Batch (None, 224, 224, 64)      256       \n",
            "_________________________________________________________________\n",
            "max_pooling2d_4 (MaxPooling2 (None, 112, 112, 64)      0         \n",
            "_________________________________________________________________\n",
            "dropout_5 (Dropout)          (None, 112, 112, 64)      0         \n",
            "_________________________________________________________________\n",
            "conv2d_7 (Conv2D)            (None, 112, 112, 128)     73856     \n",
            "_________________________________________________________________\n",
            "batch_normalization_6 (Batch (None, 112, 112, 128)     512       \n",
            "_________________________________________________________________\n",
            "max_pooling2d_5 (MaxPooling2 (None, 56, 56, 128)       0         \n",
            "_________________________________________________________________\n",
            "dropout_6 (Dropout)          (None, 56, 56, 128)       0         \n",
            "_________________________________________________________________\n",
            "conv2d_8 (Conv2D)            (None, 56, 56, 256)       295168    \n",
            "_________________________________________________________________\n",
            "batch_normalization_7 (Batch (None, 56, 56, 256)       1024      \n",
            "_________________________________________________________________\n",
            "max_pooling2d_6 (MaxPooling2 (None, 28, 28, 256)       0         \n",
            "_________________________________________________________________\n",
            "dropout_7 (Dropout)          (None, 28, 28, 256)       0         \n",
            "_________________________________________________________________\n",
            "flatten_2 (Flatten)          (None, 200704)            0         \n",
            "_________________________________________________________________\n",
            "dense_2 (Dense)              (None, 128)               25690240  \n",
            "_________________________________________________________________\n",
            "batch_normalization_8 (Batch (None, 128)               512       \n",
            "_________________________________________________________________\n",
            "dropout_8 (Dropout)          (None, 128)               0         \n",
            "_________________________________________________________________\n",
            "dense_3 (Dense)              (None, 10)                1290      \n",
            "=================================================================\n",
            "Total params: 26,082,250\n",
            "Trainable params: 26,081,098\n",
            "Non-trainable params: 1,152\n",
            "_________________________________________________________________\n"
          ],
          "name": "stdout"
        }
      ]
    },
    {
      "cell_type": "code",
      "metadata": {
        "id": "hqhLHNMV9Zf6",
        "colab_type": "code",
        "colab": {}
      },
      "source": [
        "# save the best model only\n",
        "filepath ='/content/gdrive/My Drive/dlp19/proje/modelCNN.hdf5'\n",
        "checkpoint = keras.callbacks.ModelCheckpoint(filepath, \n",
        "                                             monitor='val_acc', \n",
        "                                             verbose=1, \n",
        "                                             save_best_only=True, \n",
        "                                             mode='max')\n",
        "callbacks_list = [checkpoint]\n"
      ],
      "execution_count": 0,
      "outputs": []
    },
    {
      "cell_type": "code",
      "metadata": {
        "id": "6R_DRnqosLp1",
        "colab_type": "code",
        "outputId": "710344ec-8fa6-454a-97d4-8da22a82c7dd",
        "colab": {
          "base_uri": "https://localhost:8080/",
          "height": 232
        }
      },
      "source": [
        "### START CODE HERE ###\n",
        "\n",
        "# save the best model only\n",
        "filepath ='modelCNN.hdf5'\n",
        "checkpoint = keras.callbacks.ModelCheckpoint(filepath, \n",
        "                                             monitor='val_acc', \n",
        "                                             verbose=1, \n",
        "                                             save_best_only=True, \n",
        "                                             mode='max')\n",
        "callbacks_list = [checkpoint]\n",
        "\n",
        "adam = Adam(lr=0.0001)\n",
        "model.compile(loss=keras.losses.categorical_crossentropy,\n",
        "              optimizer= adam,\n",
        "              metrics=['accuracy'])\n",
        "\n",
        "\n",
        "batch_size = 65\n",
        "epochs = 10\n",
        "history = model.fit(X_train, y_train,\n",
        "                    batch_size=batch_size,\n",
        "                    epochs=epochs,\n",
        "                    callbacks=callbacks_list,\n",
        "                    verbose=1,\n",
        "                    validation_data=(X_val, y_val))\n",
        "\n",
        "\n",
        "model.load_weights(filepath)\n",
        "score = model.evaluate(X_test, y_test, verbose=0)\n",
        "print('Test loss:', score[0])\n",
        "print('Test accuracy:', score[1])"
      ],
      "execution_count": 0,
      "outputs": [
        {
          "output_type": "error",
          "ename": "NameError",
          "evalue": "ignored",
          "traceback": [
            "\u001b[0;31m---------------------------------------------------------------------------\u001b[0m",
            "\u001b[0;31mNameError\u001b[0m                                 Traceback (most recent call last)",
            "\u001b[0;32m<ipython-input-1-eebef5d98e0e>\u001b[0m in \u001b[0;36m<module>\u001b[0;34m()\u001b[0m\n\u001b[1;32m      1\u001b[0m \u001b[0mfilepath\u001b[0m \u001b[0;34m=\u001b[0m\u001b[0;34m'modelCNN.hdf5'\u001b[0m\u001b[0;34m\u001b[0m\u001b[0;34m\u001b[0m\u001b[0m\n\u001b[0;32m----> 2\u001b[0;31m checkpoint = keras.callbacks.ModelCheckpoint(filepath, \n\u001b[0m\u001b[1;32m      3\u001b[0m                                              \u001b[0mmonitor\u001b[0m\u001b[0;34m=\u001b[0m\u001b[0;34m'val_acc'\u001b[0m\u001b[0;34m,\u001b[0m\u001b[0;34m\u001b[0m\u001b[0;34m\u001b[0m\u001b[0m\n\u001b[1;32m      4\u001b[0m                                              \u001b[0mverbose\u001b[0m\u001b[0;34m=\u001b[0m\u001b[0;36m1\u001b[0m\u001b[0;34m,\u001b[0m\u001b[0;34m\u001b[0m\u001b[0;34m\u001b[0m\u001b[0m\n\u001b[1;32m      5\u001b[0m                                              \u001b[0msave_best_only\u001b[0m\u001b[0;34m=\u001b[0m\u001b[0;32mTrue\u001b[0m\u001b[0;34m,\u001b[0m\u001b[0;34m\u001b[0m\u001b[0;34m\u001b[0m\u001b[0m\n",
            "\u001b[0;31mNameError\u001b[0m: name 'keras' is not defined"
          ]
        }
      ]
    },
    {
      "cell_type": "code",
      "metadata": {
        "id": "E7W3CJfO4HX2",
        "colab_type": "code",
        "colab": {}
      },
      "source": [
        "\n",
        "    \n",
        "    "
      ],
      "execution_count": 0,
      "outputs": []
    },
    {
      "cell_type": "code",
      "metadata": {
        "id": "KXyxq3qAAfMn",
        "colab_type": "code",
        "outputId": "7c283554-558e-4807-c515-b44fefa4bdfc",
        "colab": {
          "base_uri": "https://localhost:8080/",
          "height": 187
        }
      },
      "source": [
        "history.history[\"acc\"]\n"
      ],
      "execution_count": 0,
      "outputs": [
        {
          "output_type": "execute_result",
          "data": {
            "text/plain": [
              "[0.9654882178463117,\n",
              " 0.983445567916138,\n",
              " 0.9943883282066596,\n",
              " 0.9960718297898167,\n",
              " 0.9980359148196499,\n",
              " 0.9960718296393,\n",
              " 0.9977553312224571,\n",
              " 0.9980359148196499,\n",
              " 0.9983164984168429,\n",
              " 0.9977553312224571]"
            ]
          },
          "metadata": {
            "tags": []
          },
          "execution_count": 48
        }
      ]
    },
    {
      "cell_type": "code",
      "metadata": {
        "id": "tHoUZ3zq4TSb",
        "colab_type": "code",
        "outputId": "0fbe2013-18e1-4f4c-fa7f-25b381a1871e",
        "colab": {
          "base_uri": "https://localhost:8080/",
          "height": 51
        }
      },
      "source": [
        "model.load_weights(filepath)\n",
        "score = model.evaluate(X_test, y_test, verbose=0)\n",
        "print('Test loss:', score[0])\n",
        "print('Test accuracy:', score[1])"
      ],
      "execution_count": 0,
      "outputs": [
        {
          "output_type": "stream",
          "text": [
            "Test loss: 3.4314421884941333\n",
            "Test accuracy: 0.16477272727272727\n"
          ],
          "name": "stdout"
        }
      ]
    },
    {
      "cell_type": "code",
      "metadata": {
        "id": "PA5OSlza9fb3",
        "colab_type": "code",
        "colab": {}
      },
      "source": [
        "import matplotlib.pyplot as plt\n",
        "%matplotlib inline\n",
        "plt.rcParams['figure.figsize'] = (10.0, 8.0) # set default size of plots\n",
        "plt.rcParams['image.interpolation'] = 'nearest'\n",
        "plt.rcParams['image.cmap'] = 'gray'"
      ],
      "execution_count": 0,
      "outputs": []
    },
    {
      "cell_type": "code",
      "metadata": {
        "id": "oPFzfvZI8GcW",
        "colab_type": "code",
        "outputId": "ff88796f-54ab-47ac-b0f6-2805ddd4cfb4",
        "colab": {
          "base_uri": "https://localhost:8080/",
          "height": 730
        }
      },
      "source": [
        "plt.subplot(2, 1, 1)\n",
        "plt.title('Training acc')\n",
        "plt.plot(history.history[\"acc\"], 'o')\n",
        "plt.xlabel('Iteration')\n",
        "\n",
        "plt.subplot(2, 1, 2)\n",
        "plt.title('Accuracy')\n",
        "plt.plot(history.history[\"acc\"], '-o', label='train')\n",
        "plt.plot(history.history[\"val_acc\"], '-o', label='val')\n",
        "plt.plot([0.5] * len(history.history[\"val_acc\"]), 'k--')\n",
        "plt.xlabel('Epoch')\n",
        "plt.legend(loc='lower right')\n",
        "plt.gcf().set_size_inches(15, 12)\n",
        "plt.show()"
      ],
      "execution_count": 0,
      "outputs": [
        {
          "output_type": "display_data",
          "data": {
            "image/png": "[encoded data removed]",
            "text/plain": [
              "<Figure size 1080x864 with 2 Axes>"
            ]
          },
          "metadata": {
            "tags": []
          }
        }
      ]
    },
    {
      "cell_type": "code",
      "metadata": {
        "id": "GbsInhZN9eAC",
        "colab_type": "code",
        "colab": {}
      },
      "source": [
        ""
      ],
      "execution_count": 0,
      "outputs": []
    },
    {
      "cell_type": "code",
      "metadata": {
        "id": "Mrn_SrJ34Tz5",
        "colab_type": "code",
        "colab": {}
      },
      "source": [
        ""
      ],
      "execution_count": 0,
      "outputs": []
    },
    {
      "cell_type": "code",
      "metadata": {
        "id": "xd6qSErd4Yuq",
        "colab_type": "code",
        "colab": {}
      },
      "source": [
        ""
      ],
      "execution_count": 0,
      "outputs": []
    }
  ]
}